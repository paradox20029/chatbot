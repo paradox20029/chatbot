{
 "cells": [
  {
   "cell_type": "code",
   "execution_count": null,
   "metadata": {
    "colab": {
     "base_uri": "https://localhost:8080/",
     "height": 554
    },
    "id": "AjIvbqgEO1O7",
    "outputId": "12e8d350-27c0-491f-efa8-62ee79d75c16"
   },
   "outputs": [
    {
     "name": "stdout",
     "output_type": "stream",
     "text": [
      "Chatbot live:\n",
      "Hi\n",
      "1/1 [==============================] - 0s 124ms/step\n",
      "Bot: Hi there! How can I help you?\n",
      "Whats trending\n",
      "1/1 [==============================] - 0s 28ms/step\n",
      "Bot: Based on your previous transaction you may save upto\n",
      "Goodbye\n",
      "1/1 [==============================] - 0s 28ms/step\n",
      "Bot: Hey! How can I assist you today?\n"
     ]
    }
   ],
   "source": [
    "# CODE FOR LOADING SAVED CHATBOT\n",
    "\n",
    "# import libraries\n",
    "import random\n",
    "import json\n",
    "import pickle\n",
    "import numpy as np\n",
    "import nltk\n",
    "from keras.models import load_model\n",
    "from nltk.stem import WordNetLemmatizer\n",
    "\n",
    "# load intents and saved model output files\n",
    "lemmatizer = WordNetLemmatizer()\n",
    "intents = json.loads(open(\"intents.json\").read())\n",
    "words = pickle.load(open('words.pkl', 'rb'))\n",
    "labels = pickle.load(open('labels.pkl', 'rb'))\n",
    "model = load_model('chatbotmodel.h5')\n",
    "\n",
    "# separate input words from input sentence\n",
    "def clean_up_sentences(sentence):\n",
    "\tsentence_words = nltk.word_tokenize(sentence)\n",
    "\tsentence_words = [lemmatizer.lemmatize(word)\n",
    "\t\t\t\t\tfor word in sentence_words]\n",
    "\treturn sentence_words\n",
    "\n",
    "# determine if input words in saved model words list\n",
    "def bagw(sentence):\n",
    "\tsentence_words = clean_up_sentences(sentence)\n",
    "\tbag = [0]*len(words)\n",
    "\tfor w in sentence_words:\n",
    "\t\tfor i, word in enumerate(words):\n",
    "\t\t\tif word == w:\n",
    "\t\t\t\tbag[i] = 1\n",
    "\treturn np.array(bag)\n",
    "\n",
    "# predict label of sentence based on input words\n",
    "#update: leveraging list comprehensions and dictionaries to work with confidence scores\n",
    "def predict_class(sentence):\n",
    "    bow = bagw(sentence)\n",
    "    res = model.predict(np.array([bow]))[0]\n",
    "    ERROR_THRESHOLD = 0.25\n",
    "    results = [{'intent': labels[i], 'probability': str(res[i])}\n",
    "               for i in range(len(res)) if res[i] > ERROR_THRESHOLD]\n",
    "    results.sort(key=lambda x: x['probability'], reverse=True)\n",
    "    return results\n",
    "\n",
    "\n",
    "\n",
    "# print random response from appropriate responses for label\n",
    "#if predicted intent has a low confidence score, gives a secondary response\n",
    "def get_response(intents_list, intents_json):\n",
    "    tag = intents_list[0]['intent']\n",
    "    probability = float(intents_list[0]['probability'])\n",
    "    list_of_intents = intents_json['intents']\n",
    "    result = \"\"\n",
    "    if probability < 0.2:  # Adjust the threshold as needed\n",
    "        result = \"I'm sorry, but I'm not sure how to help with that. Could you please provide more information?\"\n",
    "    else:\n",
    "        for i in list_of_intents:\n",
    "            if i['tag'] == tag:\n",
    "                result = random.choice(i['responses'])\n",
    "                break\n",
    "    return result\n",
    "\n",
    "# create infinite loop that prompts for input\n",
    "print(\"Chatbot live:\")\n",
    "\n",
    "while True:\n",
    "    message = input(\"\")\n",
    "    ints = predict_class(message)\n",
    "    res = get_response(ints, intents)\n",
    "    top_intent = ints[0]\n",
    "    if res.startswith(\"I'm sorry\"):\n",
    "        print(\"Bot:\", res)\n",
    "        # Additional code will be added for handling unclear queries\n",
    "        \n",
    "    else:\n",
    "        print(\"Bot:\", res)\n",
    "        # Additional code will be added in next trimester for handling normal conversation flow\n",
    "     \n",
    "\n"
   ]
  }
 ],
 "metadata": {
  "colab": {
   "provenance": []
  },
  "kernelspec": {
   "display_name": "Python 3 (ipykernel)",
   "language": "python",
   "name": "python3"
  },
  "language_info": {
   "codemirror_mode": {
    "name": "ipython",
    "version": 3
   },
   "file_extension": ".py",
   "mimetype": "text/x-python",
   "name": "python",
   "nbconvert_exporter": "python",
   "pygments_lexer": "ipython3",
   "version": "3.10.9"
  }
 },
 "nbformat": 4,
 "nbformat_minor": 1
}
